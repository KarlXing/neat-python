{
 "cells": [
  {
   "cell_type": "code",
   "execution_count": 18,
   "metadata": {},
   "outputs": [],
   "source": [
    "import pickle\n",
    "import neat\n",
    "\n",
    "from carl_genome import CarlLanderGenome\n",
    "from carl_population import CarlPopulation\n",
    "from carl_species import CarlSpecies, CarlSpeciesSet\n",
    "from carl_reproduction import CarlReproduction\n",
    "import matplotlib.pyplot as plt\n",
    "import numpy as np\n",
    "import re"
   ]
  },
  {
   "cell_type": "code",
   "execution_count": 7,
   "metadata": {},
   "outputs": [],
   "source": [
    "class LanderGenome(neat.DefaultGenome):\n",
    "    def __init__(self, key):\n",
    "        super().__init__(key)\n",
    "        self.discount = None\n",
    "\n",
    "    def configure_new(self, config):\n",
    "        super().configure_new(config)\n",
    "        self.discount = 0.01 + 0.98 * random.random()\n",
    "\n",
    "    def configure_crossover(self, genome1, genome2, config):\n",
    "        super().configure_crossover(genome1, genome2, config)\n",
    "        self.discount = random.choice((genome1.discount, genome2.discount))\n",
    "\n",
    "    def mutate(self, config):\n",
    "        super().mutate(config)\n",
    "        self.discount += random.gauss(0.0, 0.05)\n",
    "        self.discount = max(0.01, min(0.99, self.discount))\n",
    "\n",
    "    def distance(self, other, config):\n",
    "        dist = super().distance(other, config)\n",
    "        disc_diff = abs(self.discount - other.discount)\n",
    "        return dist + disc_diff\n",
    "\n",
    "    def __str__(self):\n",
    "        return \"Reward discount: {0}\\n{1}\".format(self.discount,\n",
    "                                                  super().__str__())\n"
   ]
  },
  {
   "cell_type": "code",
   "execution_count": 19,
   "metadata": {},
   "outputs": [],
   "source": [
    "stat_pneat = pickle.load(open(\"paper_result/save_stats.p\",\"rb\"))\n",
    "stat_neat = pickle.load(open(\"../../../neat-python-origin/examples/openai-lander/paper_result/save_stats2.p\",\"rb\"))"
   ]
  },
  {
   "cell_type": "code",
   "execution_count": 24,
   "metadata": {},
   "outputs": [],
   "source": [
    "def plot_stats(stat1, stat2):\n",
    "    \"\"\" Plots the population's average and best fitness. \"\"\"\n",
    "    if plt is None:\n",
    "        warnings.warn(\"This display is not available due to a missing optional dependency (matplotlib)\")\n",
    "        return\n",
    "\n",
    "    generation = range(len(stat1.most_fit_genomes))\n",
    "    best_fitness = [c.fitness for c in stat1.most_fit_genomes]\n",
    "    avg_fitness = np.array(stat1.get_fitness_mean())\n",
    "\n",
    "    plt.plot(generation, avg_fitness, 'b-', label=\"PedigreeNEAT average\", linewidth = 1)\n",
    "    #plt.plot(generation, avg_fitness - stdev_fitness, 'g-.', label=\"-1 sd\")\n",
    "    plt.plot(generation, best_fitness, 'b--', label=\"PedigreeNEAT best\", linewidth = 1)\n",
    "    \n",
    "    generation = range(len(stat2.most_fit_genomes))\n",
    "    generation = range(1000)\n",
    "    best_fitness = [c.fitness for c in stat2.most_fit_genomes]\n",
    "    best_fitness = best_fitness[:1000]\n",
    "    avg_fitness = np.array(stat2.get_fitness_mean())\n",
    "    avg_fitness = avg_fitness[:1000]\n",
    "\n",
    "    plt.plot(generation, avg_fitness, 'r-', label=\"NEAT average\", linewidth = 1)\n",
    "    #plt.plot(generation, avg_fitness - stdev_fitness, 'g-.', label=\"-1 sd\")\n",
    "    plt.plot(generation, best_fitness, 'r--', label=\"NEAT best\", linewidth = 1)\n",
    "\n",
    "    plt.title(\"Population's average and best fitness\")\n",
    "    plt.xlabel(\"Generations\")\n",
    "    plt.ylabel(\"Fitness\")\n",
    "    plt.grid()\n",
    "    plt.legend(loc=\"best\")\n",
    "\n",
    "    plt.savefig(\"Fitness\", format=\"eps\", dpi=300)\n",
    "\n",
    "    plt.close()"
   ]
  },
  {
   "cell_type": "code",
   "execution_count": 25,
   "metadata": {},
   "outputs": [],
   "source": [
    "plot_stats(stat_pneat, stat_neat)"
   ]
  },
  {
   "cell_type": "code",
   "execution_count": 29,
   "metadata": {},
   "outputs": [],
   "source": [
    "# time plot bar\n",
    "result1 = \"/home/jinwei/Documents/Git/neat-python-origin/examples/openai-lander/time.txt\"\n",
    "result2 = \"/home/jinwei/Documents/Git/neat-python/examples/openai-lander/paper_result/result.txt\"\n",
    "time1 = []\n",
    "with open(result1, \"r\") as f:\n",
    "    lines = f.readlines()\n",
    "    for line in lines:\n",
    "        if (\"population 5 generations time\" in line):\n",
    "            time = float(line.split(\" \")[-1])\n",
    "            time1.append(time)\n",
    "time2 = []\n",
    "with open(result2, \"r\") as f:\n",
    "    lines = f.readlines()\n",
    "    for line in lines:\n",
    "        if (\"population 5 generations time\" in line):\n",
    "            time = float(line.split(\" \")[-1])\n",
    "            time2.append(time)"
   ]
  },
  {
   "cell_type": "code",
   "execution_count": 37,
   "metadata": {},
   "outputs": [],
   "source": [
    "time1 = time1[1:5]\n",
    "time2 = time2[1:5]"
   ]
  },
  {
   "cell_type": "code",
   "execution_count": 63,
   "metadata": {},
   "outputs": [],
   "source": [
    "time1 = [x/5.0 for x in time1]\n",
    "time2 = [x/5.0 for x in time2]"
   ]
  },
  {
   "cell_type": "code",
   "execution_count": 96,
   "metadata": {},
   "outputs": [],
   "source": [
    "def autolabel(rects):\n",
    "    \"\"\"\n",
    "    Attach a text label above each bar displaying its height\n",
    "    \"\"\"\n",
    "    for rect in rects:\n",
    "        height = rect.get_height()\n",
    "        plt.text(rect.get_x() + rect.get_width()/2., 0.5+height,\n",
    "                '%.2f' % height,\n",
    "                ha='center', va='bottom')\n",
    "        \n",
    "def simulation_time(t1, t2):\n",
    "    if plt is None:\n",
    "        warnings.warn(\"This display is not available due to a missing optional dependency (matplotlib)\")\n",
    "        return\n",
    "    t1 = np.array(t1)\n",
    "    t2 = np.array(t2)\n",
    "    avg_t1 = np.mean(t1)\n",
    "    avg_t2 = np.mean(t2)\n",
    "    std_t1 = np.std(t1)\n",
    "    std_t2 = np.std(t2)\n",
    "    print(std_t1, std_t2)\n",
    "    b1 = plt.bar(1, avg_t1, 0.8, color='r', yerr=std_t1, label=\"NEAT\")\n",
    "    b2 = plt.bar(2.2, avg_t2, 0.8, color='b', yerr=std_t2, label=\"PedigreeNEAT\")\n",
    "    plt.xticks([1, 2.2],('NEAT', 'PedigreeNEAT'))\n",
    "    plt.ylim(0,5)\n",
    "    plt.ylabel(\"Simulation time for 1 generation\")\n",
    "    plt.xlabel(\"Genetic Algorithms\")\n",
    "    plt.legend(loc=\"best\")\n",
    "    #plt.title(\"Simulation Time of One Generation\")\n",
    "    autolabel(b1)\n",
    "    autolabel(b2)\n",
    "    plt.savefig(\"simulate.eps\", format=\"eps\", dpi=300)\n",
    "    plt.close()"
   ]
  },
  {
   "cell_type": "code",
   "execution_count": 97,
   "metadata": {},
   "outputs": [
    {
     "name": "stdout",
     "output_type": "stream",
     "text": [
      "0.36386272631424504 0.06545505781708247\n"
     ]
    }
   ],
   "source": [
    "simulation_time(time1, time2)"
   ]
  },
  {
   "cell_type": "code",
   "execution_count": 100,
   "metadata": {},
   "outputs": [],
   "source": [
    "# species change \n",
    "result1 = \"/home/jinwei/Documents/Git/neat-python-origin/examples/openai-lander/paper_result/result2.txt\"\n",
    "result2 = \"/home/jinwei/Documents/Git/neat-python/examples/openai-lander/paper_result/result.txt\"\n",
    "species1 = []\n",
    "with open(result1, \"r\") as f:\n",
    "    lines = f.readlines()\n",
    "    for line in lines:\n",
    "        if (\"Population of\" in line and \"species:\" in line):\n",
    "            species1.append(int(line.split(\" \")[-2]))\n",
    "species2 = []\n",
    "with open(result2, \"r\") as f:\n",
    "    lines = f.readlines()\n",
    "    for line in lines:\n",
    "        if (\"Population of\" in line and \"species:\" in line):\n",
    "            species2.append(int(line.split(\" \")[-2]))"
   ]
  },
  {
   "cell_type": "code",
   "execution_count": 112,
   "metadata": {},
   "outputs": [],
   "source": [
    "def species(s1, s2):\n",
    "    if plt is None:\n",
    "        warnings.warn(\"This display is not available due to a missing optional dependency (matplotlib)\")\n",
    "        return\n",
    "    x1 = range(len(s1))\n",
    "    x2 = range(len(s2))\n",
    "    plt.plot(x1, s1, 'b-', label=\"PedigreeNEAT Species\")\n",
    "    plt.plot(x2, s2, 'r-', label=\"NEAT Species\")\n",
    "\n",
    "    plt.xlabel(\"Generations\")\n",
    "    plt.ylabel(\"Number of Species\")\n",
    "    plt.yticks(range(0,25,5))\n",
    "    plt.grid()\n",
    "    plt.legend(loc=\"best\")\n",
    "\n",
    "    plt.savefig(\"species\", format=\"eps\", dpi=300)\n",
    "\n",
    "    plt.close()"
   ]
  },
  {
   "cell_type": "code",
   "execution_count": 113,
   "metadata": {},
   "outputs": [],
   "source": [
    "species(species1, species2)"
   ]
  },
  {
   "cell_type": "code",
   "execution_count": 114,
   "metadata": {},
   "outputs": [
    {
     "name": "stdout",
     "output_type": "stream",
     "text": [
      "12.072254335260116 13.402380952380952 2.601981778599028 4.510568969243665\n"
     ]
    }
   ],
   "source": [
    "s1 = np.array(species1)\n",
    "s2 = np.array(species2)\n",
    "print(np.mean(s1), np.mean(s2), np.std(s1), np.std(s2))"
   ]
  },
  {
   "cell_type": "code",
   "execution_count": null,
   "metadata": {},
   "outputs": [],
   "source": []
  }
 ],
 "metadata": {
  "kernelspec": {
   "display_name": "Python 3",
   "language": "python",
   "name": "python3"
  },
  "language_info": {
   "codemirror_mode": {
    "name": "ipython",
    "version": 3
   },
   "file_extension": ".py",
   "mimetype": "text/x-python",
   "name": "python",
   "nbconvert_exporter": "python",
   "pygments_lexer": "ipython3",
   "version": "3.6.5"
  }
 },
 "nbformat": 4,
 "nbformat_minor": 2
}
